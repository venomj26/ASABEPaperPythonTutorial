{
 "cells": [
  {
   "cell_type": "markdown",
   "metadata": {},
   "source": [
    "# Lecture 3 --- April 2023\n",
    "\n",
    "## Outline of topics for this lecture:\n",
    "\n",
    "1. Finishing lecture items from previous.\n",
    "2. Talk about the field capacity problem.\n",
    "3. More data wrangling on USDA NASS data.\n",
    "4. Chutes and Laddders Game\n",
    "\n",
    "\n",
    "## Some useful background material:\n",
    "\n",
    "The <a href=\"https://the-examples-book.com/book/introduction\" target=\"_blank\">Purdue Data Mine Examples Book</a> contains many useful chapters on data science. While they have not been directly designed for this class, they may be useful. You will not need to use scholar to perform the exercises of this class so don't worry about that part. Here is a direct link to the <a href=\"https://the-examples-book.com/book/python/introduction\" target=\"_blank\">Python chapter.</a>\n",
    "\n",
    "\n",
    "Additional useful links for Python include:\n",
    "\n",
    "<a href=\"https://docs.python.org/3/\" target=\"_blank\">Python 3.9.4 documentation</a>\n",
    "\n",
    "The <a href=\"https://pypi.org/\" target=\"_blank\">Python Package Index</a> (This contains many of the useful Python \"add-on\" packages such as the math package)\n",
    "\n",
    "The <a href=\"https://numpy.org/\" target=\"_blank\">Numpy Package</a> (This contains specialized array (vector and matrix) routines. Numpy stands for \"Numerical Python\")\n",
    "\n",
    "United States Department of Agriculture: <a href=\"https://quickstats.nass.usda.gov/\" target=\"_blank\">Quick Stats</a> (The USDA's National Ag Statistics Service -- go here and familiarize yourself with the available data)"
   ]
  },
  {
   "cell_type": "code",
   "execution_count": null,
   "metadata": {},
   "outputs": [],
   "source": [
    "# Import packages ...\n",
    "import numpy as np\n",
    "import matplotlib as mpl\n",
    "import matplotlib.pyplot as plt"
   ]
  },
  {
   "cell_type": "code",
   "execution_count": null,
   "metadata": {},
   "outputs": [],
   "source": []
  },
  {
   "cell_type": "markdown",
   "metadata": {},
   "source": [
    "# Picking up where we left off in Lecture 2"
   ]
  },
  {
   "cell_type": "code",
   "execution_count": null,
   "metadata": {},
   "outputs": [],
   "source": []
  },
  {
   "cell_type": "markdown",
   "metadata": {},
   "source": [
    "## United states corn yield trends as a plotting example ...\n",
    "\n",
    "Data was obtained from the United States Department of Agriculture: <a href=\"https://quickstats.nass.usda.gov/\" target=\"_blank\">Quick Stats</a> (The USDA's National Ag Statistics Service -- we will make more use of this in the lab later)\n",
    "\n",
    "The choices made on the Quick Stats page are shown below ..."
   ]
  },
  {
   "cell_type": "markdown",
   "metadata": {},
   "source": [
    "<img align=\"left\" src='Figs/USDA-NASS-screen-shot.png' width=\"700\"/>"
   ]
  },
  {
   "cell_type": "markdown",
   "metadata": {},
   "source": [
    "### A file is found in the `Data` subdirectory which was obtained by ...\n",
    "\n",
    "1. Pressing the `Get Data` button on NASS webpage\n",
    "2. Saving it as a `csv` file\n",
    "3. Opening the `csv` file with Microsoft Excel to delete superfluous columns and saving the file as `US-National-CornYields.csv`\n",
    "\n",
    "Our **goal** now is to read this file and use the data to make a plot of average corn yield vs. year."
   ]
  },
  {
   "cell_type": "markdown",
   "metadata": {},
   "source": [
    "To that end let's read in the corn yields data file, print the first few lines, and examine the data, etc."
   ]
  },
  {
   "cell_type": "code",
   "execution_count": null,
   "metadata": {},
   "outputs": [],
   "source": [
    "# Put the file name into a str variable for convenience\n",
    "file_name = 'Data/US-National-CornYields.csv'\n",
    "\n",
    "# Open the file for reading only and print the first few \n",
    "# lines.\n",
    "\n",
    "fin = open(file_name, \"r\")\n",
    "\n",
    "for i in range(20):\n",
    "    line = fin.readline()\n",
    "    print(line, end='')\n",
    "\n",
    "fin.close()"
   ]
  },
  {
   "cell_type": "markdown",
   "metadata": {},
   "source": [
    "### What is here ... ?\n",
    "\n",
    "The first line of the file contains the header information. Now that we know it, we are not in much need of it. \n",
    "\n",
    "The variable `line` in the cell above has taken in turn the first 20 lines of the file `'Data/US-National-CornYields.csv'`. When the loop ends at the 20th step the variable `line` should still contain the last line read. Let's take a closer look at it."
   ]
  },
  {
   "cell_type": "code",
   "execution_count": null,
   "metadata": {},
   "outputs": [],
   "source": [
    "print(line)\n",
    "print(type(line))"
   ]
  },
  {
   "cell_type": "code",
   "execution_count": null,
   "metadata": {},
   "outputs": [],
   "source": [
    "# What is really in the line variable?\n",
    "\n",
    "line"
   ]
  },
  {
   "cell_type": "markdown",
   "metadata": {},
   "source": [
    "### Clearly the lines are just text strings ...\n",
    "\n",
    "The data fields are separated by a comma, the first field containing the year, and the second containing the U.S. average corn yield for that year. \n",
    "\n",
    "The line ends with a `\\n` new line character"
   ]
  },
  {
   "cell_type": "markdown",
   "metadata": {},
   "source": [
    "### Python provides a number of ***methods*** for operating on strings ...\n",
    "\n",
    "Methods are often written with dot notation wherein a string or string variable is followed by dot the method name and some optional paramters. Let `my_string` be a variable that holds a string. Some important methods are\n",
    "\n",
    "* `my_string.find('xyz')` -- returns the index of the position in the original string where the first occurance of `'xyz'` is found, or -1 if never found\n",
    "\n",
    "* `my_string.upper()` -- makes a new string which is the upper case version of the original. There is also a `.lower()`\n",
    "\n",
    "* `my_string.replace('old','new')` -- replaces first occurance of substring `'old'` with substring `'new'`\n",
    "\n",
    "* `my_string.split()` -- with no arguments it splits an input string at white space characters, e.g., space, tab, new line and produces a list containing the substrings.\n",
    "\n",
    "There are many other string methods."
   ]
  },
  {
   "cell_type": "markdown",
   "metadata": {},
   "source": [
    "### Some example string operations ..."
   ]
  },
  {
   "cell_type": "code",
   "execution_count": null,
   "metadata": {},
   "outputs": [],
   "source": [
    "# The split method applies to the processing of text strings. Remember\n",
    "# that a text string is a sequence of characters, sometimes called an array\n",
    "# of characters.\n",
    "\n",
    "# An example text string is one of the lines from the Limerick poem of the\n",
    "# previous lab ...\n",
    "\n",
    "ExampleString = 'There once was a fly on the wall'"
   ]
  },
  {
   "cell_type": "code",
   "execution_count": null,
   "metadata": {},
   "outputs": [],
   "source": [
    "# Check the type\n",
    "\n",
    "type(ExampleString)"
   ]
  },
  {
   "cell_type": "code",
   "execution_count": null,
   "metadata": {},
   "outputs": [],
   "source": [
    "# How long is it?\n",
    "\n",
    "len(ExampleString)"
   ]
  },
  {
   "cell_type": "code",
   "execution_count": null,
   "metadata": {},
   "outputs": [],
   "source": [
    "# What is the first element?\n",
    "\n",
    "ExampleString[0]"
   ]
  },
  {
   "cell_type": "code",
   "execution_count": null,
   "metadata": {},
   "outputs": [],
   "source": [
    "# What is the last element?\n",
    "\n",
    "ExampleString[31]"
   ]
  },
  {
   "cell_type": "code",
   "execution_count": null,
   "metadata": {},
   "outputs": [],
   "source": [
    "# Note that we don't have to define the variable in order to refer\n",
    "# to the individual elements in this way ...\n",
    "\n",
    "'There once was a fly on the wall'[5]"
   ]
  },
  {
   "cell_type": "markdown",
   "metadata": {},
   "source": [
    "The split method applies to a text string, splitting it into smaller strings demarcated by some marker, which can be specified. It puts the results into a list of smaller text strings. For example ...\n",
    "\n",
    "`'There once was a fly on the wall'`"
   ]
  },
  {
   "cell_type": "code",
   "execution_count": null,
   "metadata": {},
   "outputs": [],
   "source": [
    "# If we split on a single space character ...\n",
    "\n",
    "'There once was a   fly on the wall'.split(' ')"
   ]
  },
  {
   "cell_type": "code",
   "execution_count": null,
   "metadata": {},
   "outputs": [],
   "source": [
    "# If we split on any white space ... this doesn't count extra spaces ...\n",
    "# White space refers to tabs and space characters. On a printed page of white paper\n",
    "# there is therefore nothing there. White space might also include new lines ...\n",
    "\n",
    "'There once was a   fly on the \\t wall'.split()"
   ]
  },
  {
   "cell_type": "code",
   "execution_count": null,
   "metadata": {},
   "outputs": [],
   "source": [
    "len('There once was a   fly on the wall'.split())"
   ]
  },
  {
   "cell_type": "markdown",
   "metadata": {},
   "source": [
    "### Back to the problem at hand -- reading and processing the corn yield data\n"
   ]
  },
  {
   "cell_type": "code",
   "execution_count": null,
   "metadata": {},
   "outputs": [],
   "source": [
    "# Remember the variable line which was set at the 20th line of the file\n",
    "\n",
    "line"
   ]
  },
  {
   "cell_type": "code",
   "execution_count": null,
   "metadata": {},
   "outputs": [],
   "source": [
    "# Remove the newline character, which was found at the end of each line in the\n",
    "# yield data file\n",
    "\n",
    "line.replace('\\n','')"
   ]
  },
  {
   "cell_type": "code",
   "execution_count": null,
   "metadata": {},
   "outputs": [],
   "source": [
    "# Split the remaining line on the comma. Note that we can cascade these\n",
    "# string methods ...\n",
    "\n",
    "line.replace('\\n','').split(',')"
   ]
  },
  {
   "cell_type": "code",
   "execution_count": null,
   "metadata": {},
   "outputs": [],
   "source": [
    "# The elements in the list above are still text strings, which cannot be plotted\n",
    "# until they are converted to numbers (either floats or ints)\n",
    "\n",
    "templist = line.replace('\\n','').split(',')\n",
    "d = int(templist[0])\n",
    "y = float(templist[1])\n",
    "print(type(d))\n",
    "print(type(y))"
   ]
  },
  {
   "cell_type": "code",
   "execution_count": null,
   "metadata": {},
   "outputs": [],
   "source": [
    "d"
   ]
  },
  {
   "cell_type": "code",
   "execution_count": null,
   "metadata": {},
   "outputs": [],
   "source": [
    "y"
   ]
  },
  {
   "cell_type": "code",
   "execution_count": null,
   "metadata": {},
   "outputs": [],
   "source": [
    "# Read the whole file using a for loop and create the data to be plotted\n",
    "\n",
    "fin = open(file_name, \"r\")\n",
    "fin.readline() #Read first line to move past header\n",
    "d = np.array([])\n",
    "y = np.array([])\n",
    "\n",
    "for line in fin:\n",
    "    templist = line.replace('\\n','').split(',')\n",
    "    d = np.append(d, float(templist[0]))\n",
    "    y = np.append(y, float(templist[1]))\n",
    "\n",
    "fin.close()"
   ]
  },
  {
   "cell_type": "code",
   "execution_count": null,
   "metadata": {},
   "outputs": [],
   "source": [
    "# Plotting the corn yield trend\n",
    "fig = plt.figure()\n",
    "plt.style.use('classic')\n",
    "plt.plot(d, y)\n",
    "plt.title(\"United States Average Corn Yield by Year\")\n",
    "plt.xlabel(\"Year\")\n",
    "plt.ylabel(\"Yield in bushels per acre\")\n",
    "plt.grid()"
   ]
  },
  {
   "cell_type": "markdown",
   "metadata": {},
   "source": [
    "### That's a similar looking trend to the wheat yield data we saw in a previous lecture ...\n",
    "\n",
    "Might be interesting to compare them. Copying some cells from Lecture 1."
   ]
  },
  {
   "cell_type": "code",
   "execution_count": null,
   "metadata": {},
   "outputs": [],
   "source": [
    "wdates = np.array([2021, 2020, 2019, 2018, 2017, 2016, 2015, 2014, 2013, 2012, 2011, 2010, 2009, 2008, 2007, 2006, 2005, 2004, 2003, 2002, 2001, 2000,1999, 1998, 1997, 1996, 1995, 1994, 1993, 1992, 1991, 1990, 1989, 1988, 1987, 1986, 1985, 1984, 1983, 1982, 1981, 1980, 1979, 1978, 1977, 1976, 1975, 1974, 1973, 1972, 1971, 1970, 1969, 1968, 1967,1966, 1965, 1964, 1963, 1962, 1961, 1960, 1959, 1958, 1957, 1956, 1955, 1954, 1953, 1952, 1951, 1950, 1949, 1948, 1947, 1946, 1945,1944, 1943, 1942, 1941, 1940, 1939, 1938, 1937, 1936, 1935, 1934, 1933, 1932, 1931, 1930, 1929, 1928, 1927, 1926, 1925, 1924, 1923,1922, 1921, 1920, 1919, 1918, 1917, 1916, 1915, 1914, 1913, 1912,1911, 1910, 1909, 1908, 1907, 1906, 1905, 1904, 1903, 1902, 1901,1900, 1899, 1898, 1897, 1896, 1895, 1894, 1893, 1892, 1891, 1890,1889, 1888, 1887, 1886, 1885, 1884, 1883, 1882, 1881, 1880, 1879,1878, 1877, 1876, 1875, 1874, 1873, 1872, 1871, 1870, 1869, 1868, 1867, 1866])\n",
    "wyields = np.array([44.5, 49.7, 51.7, 47.6, 46.4, 52.7, 43.6, 43.7, 47.1, 46.2, 43.6, 46.1, 44.3, 44.8, 40.2, 38.6, 42. , 43.2, 44.2, 35. , 40.2, 42. , 42.7, 43.2, 39.5, 36.3, 35.8, 37.6, 38.2, 39.3, 34.3, 39.5, 32.7, 34.1, 37.7, 34.4, 37.5, 38.8, 39.4, 35.5, 34.5, 33.5, 34.2, 31.4, 30.7, 30.3, 30.6, 27.3, 31.6, 32.7, 33.9, 31. , 30.6, 28.4, 25.8, 26.3, 26.5, 25.8, 25.2, 25. , 23.9, 26.1, 21.6, 27.5, 21.8, 20.2, 19.8, 18.1, 17.3, 18.4, 16. , 16.5, 14.5, 17.9, 18.2, 17.2, 17. , 17.7, 16.4, 19.5, 16.8, 15.3, 14.1, 13.3, 13.6, 12.8, 12.2, 12.1, 11.2, 13.1, 16.3, 14.2, 13. , 15.4, 14.7, 14.7, 12.8, 16. , 13.3, 13.8, 12.7, 13.5, 12.9, 14.8, 13.2, 11.9, 16.7, 16.1, 14.4, 15.1, 12.4, 13.7, 15.5, 14.3, 14.2, 16. , 15.2, 12.9, 13.7, 14.9, 15. , 12.2, 12.5, 15.2, 14. , 12.8, 13.9, 13.5, 12.4, 14.2, 16.5, 12.2, 14. , 12.1, 13.3, 14.1, 11.4, 14.8, 12.3, 15.1, 11. , 13.2, 13. , 13.5, 14.1, 10.9, 11.1, 13. , 12.9, 11.8, 12.2, 12.1, 13.7, 12.9, 12.6, 11. ])"
   ]
  },
  {
   "cell_type": "code",
   "execution_count": null,
   "metadata": {},
   "outputs": [],
   "source": [
    "# Plotting the wheat and corn yield trend on the same axes\n",
    "fig = plt.figure()\n",
    "plt.style.use('classic')\n",
    "plt.plot(d, y)\n",
    "plt.title(\"US Average Corn (blue) and Wheat (green) Yields by Year\")\n",
    "plt.xlabel(\"Year\")\n",
    "plt.ylabel(\"Yield in bushels per acre\")\n",
    "plt.grid()\n",
    "plt.plot(wdates, wyields)"
   ]
  },
  {
   "cell_type": "code",
   "execution_count": null,
   "metadata": {},
   "outputs": [],
   "source": []
  },
  {
   "cell_type": "code",
   "execution_count": null,
   "metadata": {},
   "outputs": [],
   "source": []
  },
  {
   "cell_type": "code",
   "execution_count": null,
   "metadata": {},
   "outputs": [],
   "source": []
  },
  {
   "cell_type": "code",
   "execution_count": null,
   "metadata": {},
   "outputs": [],
   "source": []
  },
  {
   "cell_type": "markdown",
   "metadata": {},
   "source": [
    "## Catching up with previous lecture!"
   ]
  },
  {
   "cell_type": "markdown",
   "metadata": {},
   "source": [
    "### Let's look at a more complicated scenario ...\n",
    "\n",
    "The choices on the USDA NASS webpage that result in the `csv` below are:\n",
    "\n",
    "<img align=\"left\" src='Figs/USDA-NASS-screen-shot--landvalues.png' width=\"700\"/>"
   ]
  },
  {
   "cell_type": "code",
   "execution_count": null,
   "metadata": {},
   "outputs": [],
   "source": [
    "# Put the file name into a str variable for convenience\n",
    "file_name = 'Data/US-LandValue-by-State-and-Year.csv'\n",
    "\n",
    "# Open the file for reading only and print the first few \n",
    "# lines.\n",
    "\n",
    "fin = open(file_name, \"r\")\n",
    "\n",
    "for i in range(20):\n",
    "    line = fin.readline()\n",
    "    print(line, end='')\n",
    "\n",
    "fin.close()"
   ]
  },
  {
   "cell_type": "markdown",
   "metadata": {},
   "source": [
    "### The situation here is clearly more complicated than what we've before seen ...\n",
    "\n",
    "Let's look at the header and a representative data line separately"
   ]
  },
  {
   "cell_type": "code",
   "execution_count": null,
   "metadata": {},
   "outputs": [],
   "source": [
    "fin = open(file_name, \"r\")\n",
    "\n",
    "headerline = fin.readline()\n",
    "dataline = fin.readline()\n",
    "\n",
    "fin.close()"
   ]
  },
  {
   "cell_type": "code",
   "execution_count": null,
   "metadata": {},
   "outputs": [],
   "source": [
    "headerline"
   ]
  },
  {
   "cell_type": "code",
   "execution_count": null,
   "metadata": {},
   "outputs": [],
   "source": [
    "dataline"
   ]
  },
  {
   "cell_type": "markdown",
   "metadata": {},
   "source": [
    "### Looking at these we see ...\n",
    "\n",
    "* There are many columns that are superfluous for our application. We want to look at the trends over time of the values of ag land and attempt to correlate with corn productivity.\n",
    "\n",
    "* To this end the columns of interest are `Year`, `State`, and `Value` since we already know the context\n",
    "\n",
    "* We also note that comma can appear in the data both in the text string under the \"Data Item\" column and in the \"Value\" column. So we don't want to simply split on comma as it will create false columns. One thing we could do is to split on `\",\"` and use the fact that they've put these superfluous double quotes on the lines.\n",
    "\n",
    "Let's try it with `dataline` ..."
   ]
  },
  {
   "cell_type": "code",
   "execution_count": null,
   "metadata": {},
   "outputs": [],
   "source": [
    "# Experimenting with split method for finding the data we want ...\n",
    "\n",
    "dataline.split('\",\"')"
   ]
  },
  {
   "cell_type": "code",
   "execution_count": null,
   "metadata": {},
   "outputs": [],
   "source": [
    "# The year field is in positon 1 of the list ...\n",
    "\n",
    "dataline.split('\",\"')[1]"
   ]
  },
  {
   "cell_type": "code",
   "execution_count": null,
   "metadata": {},
   "outputs": [],
   "source": [
    "# The state field is in positon 5 of the list ...\n",
    "\n",
    "dataline.split('\",\"')[5]"
   ]
  },
  {
   "cell_type": "code",
   "execution_count": null,
   "metadata": {},
   "outputs": [],
   "source": [
    "# The value field is in positon 19 of the list ...\n",
    "\n",
    "dataline.split('\",\"')[19]"
   ]
  },
  {
   "cell_type": "code",
   "execution_count": null,
   "metadata": {},
   "outputs": [],
   "source": [
    "# Can we convert this number to a float?\n",
    "\n",
    "float(dataline.split('\",\"')[19])"
   ]
  },
  {
   "cell_type": "code",
   "execution_count": null,
   "metadata": {},
   "outputs": [],
   "source": [
    "# We can but the float() function does not like the comma in the string. So we first\n",
    "# remove it and then call float ...\n",
    "\n",
    "dataline.split('\",\"')[19].replace(',','')"
   ]
  },
  {
   "cell_type": "code",
   "execution_count": null,
   "metadata": {},
   "outputs": [],
   "source": [
    "# Now call float() and it works!!\n",
    "\n",
    "float(dataline.split('\",\"')[19].replace(',',''))"
   ]
  },
  {
   "cell_type": "code",
   "execution_count": null,
   "metadata": {},
   "outputs": [],
   "source": [
    "# Let's pull land values data out for some states of interest ... COLORADO, ARKANSAS, KANSAS"
   ]
  },
  {
   "cell_type": "code",
   "execution_count": null,
   "metadata": {},
   "outputs": [],
   "source": [
    "# Put the file name into a str variable for convenience\n",
    "file_name = 'Data/US-LandValue-by-State-and-Year.csv'\n",
    "\n",
    "# Open the file for reading only and print the first few \n",
    "# lines.\n",
    "\n",
    "fin = open(file_name, \"r\")\n",
    "fin.readline() #Read first line to move past header\n",
    "\n",
    "d_ark = np.array([])\n",
    "v_ark = np.array([])\n",
    "d_col = np.array([])\n",
    "v_col = np.array([])\n",
    "d_kan = np.array([])\n",
    "v_kan = np.array([])\n",
    "\n",
    "for line in fin:\n",
    "    templist = line.split('\",\"')\n",
    "    state = templist[5]\n",
    "    if state == 'ARKANSAS':\n",
    "        d_ark = np.append(d_ark, float(templist[1]))\n",
    "        v_ark = np.append(v_ark, float(templist[19].replace(',','')))\n",
    "    elif state == 'COLORADO':\n",
    "        d_col = np.append(d_col, float(templist[1]))\n",
    "        v_col = np.append(v_col, float(templist[19].replace(',','')))\n",
    "    elif state == 'KANSAS':\n",
    "        d_kan = np.append(d_kan, float(templist[1]))\n",
    "        v_kan = np.append(v_kan, float(templist[19].replace(',','')))\n",
    "        \n",
    "fin.close()"
   ]
  },
  {
   "cell_type": "code",
   "execution_count": null,
   "metadata": {},
   "outputs": [],
   "source": [
    "d_ark"
   ]
  },
  {
   "cell_type": "code",
   "execution_count": null,
   "metadata": {},
   "outputs": [],
   "source": [
    "v_kan"
   ]
  },
  {
   "cell_type": "code",
   "execution_count": null,
   "metadata": {},
   "outputs": [],
   "source": [
    "# Plotting the land value trends on the same axes\n",
    "fig = plt.figure()\n",
    "plt.style.use('classic')\n",
    "plt.plot(d_ark, v_ark, '*')\n",
    "plt.title(\"US Average Non-irrigated Land Values by Year\")\n",
    "plt.xlabel(\"Year\")\n",
    "plt.ylabel(\"Dollars per acre\")\n",
    "plt.grid()\n",
    "plt.plot(d_col, v_col, '.')\n",
    "plt.plot(d_kan, v_kan, 'o')"
   ]
  },
  {
   "cell_type": "markdown",
   "metadata": {},
   "source": [
    "### Some homework ...\n",
    "\n",
    "The x-axis in the plot above if very annoying. How can we fix this to simply show the years directly?\n",
    "\n",
    "Why is there no data in the `csv` file for land values for Indiana and Alabama? Can we go back to NASS and find it?"
   ]
  },
  {
   "cell_type": "code",
   "execution_count": null,
   "metadata": {},
   "outputs": [],
   "source": []
  },
  {
   "cell_type": "markdown",
   "metadata": {},
   "source": [
    "## The Chutes and Ladders Game ...\n",
    "\n",
    "Prof. Buckmaster introduced the chutes and ladders game as an example of computing using Excel. The typical game board, containing 100 squares, is shown below."
   ]
  },
  {
   "cell_type": "markdown",
   "metadata": {},
   "source": [
    "<img align=\"left\" src='Figs/Chutes&LaddersImage.png' width=\"300\"/>"
   ]
  },
  {
   "cell_type": "markdown",
   "metadata": {},
   "source": [
    "### Short version of the rules:\n",
    "\n",
    "1. Assume there are N players, who have been ordered according to the order in which they will play by some random means (e.g., by rolling the dice, drawing straws, etc.)\n",
    "\n",
    "2. Players all start at position 0.\n",
    "\n",
    "3. At time k (k = 0, 1, 2, ...) the positions of the N players are indicated by p_n(k) for n = 1, 2, 3, ..., N.\n",
    "\n",
    "4. Starting with player 1, each player throws a die and adds the value shown on the die to his position, i.e., p_1(k+1) = p_1(k) + {the roll of the die}. Then the player moves to that position on the board. If there is no chute or ladder at the new position, he remains there and his turn ends. On the other hand, if there is a chute or a ladder at the new position, the player must climb the ladder or fall down the chute as the case may be .... this change then yields the new position.\n",
    "\n",
    "5. The first player to reach position 100 exactly wins the game. If a player rolls the die and computes a new position that would take her past 100, then the roll is voided and she remains at her original position."
   ]
  },
  {
   "cell_type": "markdown",
   "metadata": {},
   "source": [
    "### Following is a function which rolls the die and computes the new position of a player."
   ]
  },
  {
   "cell_type": "code",
   "execution_count": null,
   "metadata": {},
   "outputs": [],
   "source": [
    "import random\n",
    "from random import Random\n",
    "\n",
    "random.seed(a=None,version=2)"
   ]
  },
  {
   "cell_type": "code",
   "execution_count": null,
   "metadata": {},
   "outputs": [],
   "source": [
    "# This needs to be included for the random drawing of numbers from\n",
    "# 1 to 6 simulating the throw of a die.\n",
    "import random\n",
    "from random import Random\n",
    "\n",
    "random.seed(a=None,version=2)\n",
    "\n",
    "# This dictionary stores the chutes and ladders board.\n",
    "CandLTable = {1:38, 4:14, 9:31, 16:6, 21:42, 28:84, 36:44, 47:26, 49:11, 51:67,\n",
    "             56:53, 63:19, 64:60, 71:91, 80:100, 87:24, 93:73, 95:75, 98:78}\n",
    "\n",
    "# The function to make a move\n",
    "def CandL_make_a_move(position,CandLTable):\n",
    "    rand = Random(None)\n",
    "    roll = rand.randint(1, 6)\n",
    "    if position + roll > 100:\n",
    "        return position\n",
    "    position += roll\n",
    "    position = CandLTable.get(position, position)\n",
    "    return position"
   ]
  },
  {
   "cell_type": "markdown",
   "metadata": {},
   "source": [
    "# HW Problem: Program Chutes and Ladders Game\n",
    "\n",
    "Write a program which plays a game between two people until one wins and produces a record of the game play.\n",
    "\n",
    "If you have time convert your single game code into a function and then write a program to play a large number of games one after another keeping a record of who won and how long the game lasted. Then compute statistics and/or histograms.\n",
    "\n",
    "Finally, if you still can't sleep explore how changes to the positions of chutes and ladders might change the game."
   ]
  },
  {
   "cell_type": "code",
   "execution_count": null,
   "metadata": {},
   "outputs": [],
   "source": [
    "CandL_make_a_move(1,CandLTable)"
   ]
  },
  {
   "cell_type": "code",
   "execution_count": null,
   "metadata": {},
   "outputs": [],
   "source": [
    "CandL_make_a_move(3,CandLTable)"
   ]
  },
  {
   "cell_type": "code",
   "execution_count": null,
   "metadata": {},
   "outputs": [],
   "source": []
  },
  {
   "cell_type": "code",
   "execution_count": null,
   "metadata": {},
   "outputs": [],
   "source": [
    "P1 = np.array([0])\n",
    "\n",
    "p1 = 0\n",
    "\n",
    "while (p1 < 100):\n",
    "    p1 = CandL_make_a_move(p1, CandLTable)\n",
    "    P1 = np.append(P1, p1)\n",
    "\n",
    "\n",
    "# This simply plots the positions of the two players over the\n",
    "# course of the game.\n",
    "fig3 = plt.figure()\n",
    "plt.style.use('seaborn-dark-palette')\n",
    "plt.plot(P1,'*')\n",
    "plt.grid()\n"
   ]
  },
  {
   "cell_type": "code",
   "execution_count": null,
   "metadata": {},
   "outputs": [],
   "source": []
  }
 ],
 "metadata": {
  "kernelspec": {
   "display_name": "Python 3",
   "language": "python",
   "name": "python3"
  },
  "language_info": {
   "codemirror_mode": {
    "name": "ipython",
    "version": 3
   },
   "file_extension": ".py",
   "mimetype": "text/x-python",
   "name": "python",
   "nbconvert_exporter": "python",
   "pygments_lexer": "ipython3",
   "version": "3.8.8"
  }
 },
 "nbformat": 4,
 "nbformat_minor": 2
}

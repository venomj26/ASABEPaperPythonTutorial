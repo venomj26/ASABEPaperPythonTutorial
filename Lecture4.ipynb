{
 "cells": [
  {
   "cell_type": "markdown",
   "metadata": {},
   "source": [
    "# Lecture 4 --- April 2023\n",
    "\n",
    "## Outline of topics for this segment:\n",
    "\n",
    "1. Programming the chutes and ladders game\n",
    "2. Experimenting with it\n"
   ]
  },
  {
   "cell_type": "code",
   "execution_count": null,
   "metadata": {},
   "outputs": [],
   "source": [
    "import math\n",
    "import numpy as np\n",
    "import matplotlib as mpl\n",
    "import matplotlib.pyplot as plt"
   ]
  },
  {
   "cell_type": "markdown",
   "metadata": {},
   "source": [
    "## The Chutes and Ladders Game ...\n",
    "\n",
    "Prof. Buckmaster introduced the chutes and ladders game as an example of computing using Excel. The typical game board, containing 100 squares, is shown below."
   ]
  },
  {
   "cell_type": "markdown",
   "metadata": {},
   "source": [
    "<img align=\"left\" src='Figs/Chutes&LaddersImage.png' width=\"500\"/>"
   ]
  },
  {
   "cell_type": "markdown",
   "metadata": {},
   "source": [
    "### Short version of the rules:\n",
    "\n",
    "1. Assume there are N players, who have been ordered according to the order in which they will play by some random means (e.g., by rolling the dice, drawing straws, etc.)\n",
    "\n",
    "2. Players all start at position 0.\n",
    "\n",
    "3. At time k (k = 0, 1, 2, ...) the positions of the N players are indicated by p_n(k) for n = 1, 2, 3, ..., N.\n",
    "\n",
    "4. Starting with player 1, each player throws a die and adds the value shown on the die to his position, i.e., p_1(k+1) = p_1(k) + {the roll of the die}. Then the player moves to that position on the board. If there is no chute or ladder at the new position, he remains there and his turn ends. On the other hand, if there is a chute or a ladder at the new position, the player must climb the ladder or fall down the chute as the case may be .... this change then yields the new position.\n",
    "\n",
    "5. The first player to reach position 100 exactly wins the game. If a player rolls the die and computes a new position that would take her past 100, then the roll is voided and she remains at her original position."
   ]
  },
  {
   "cell_type": "markdown",
   "metadata": {},
   "source": [
    "### Following is a function which rolls the die and computes the new position of a player."
   ]
  },
  {
   "cell_type": "code",
   "execution_count": null,
   "metadata": {},
   "outputs": [],
   "source": [
    "# This dictionary stores the chutes and ladders board.\n",
    "CandLTable = {1:38, 4:14, 9:31, 16:6, 21:42, 28:84, 36:44, 47:26, 49:11, 51:67,\n",
    "             56:53, 63:19, 64:60, 71:91, 80:100, 87:24, 93:73, 95:75, 98:78}\n",
    "\n",
    "# The function to make a move\n",
    "def CandL_make_a_move(position,CandLTable):\n",
    "    roll = np.random.randint(1,7)\n",
    "    if position + roll > 100:\n",
    "        return position\n",
    "    position += roll\n",
    "    position = CandLTable.get(position, position)\n",
    "    return position"
   ]
  },
  {
   "cell_type": "markdown",
   "metadata": {},
   "source": [
    "### How does the `CandLTable` work?\n",
    "\n",
    "It is a dictionary, which means a collection of key-value pairs."
   ]
  },
  {
   "cell_type": "markdown",
   "metadata": {},
   "source": [
    "# Recall our previous discussion on Python data types ...\n",
    "\n",
    "## Collection Data Types\n",
    "There are four **collection** data types: **lists**, **tuples**, **sets**, and **dictionaries**. (Some say that a **string** is a collection data type since it is a ordered set of characters --- more later).\n",
    "\n",
    "### A. <u>Lists</u> are ordered, changeable, and allow duplicate members:"
   ]
  },
  {
   "cell_type": "code",
   "execution_count": null,
   "metadata": {},
   "outputs": [],
   "source": [
    "# Create a list with 5 elements.\n",
    "\n",
    "Coloradothings = [\"wheat\", \"corn\", \"sugar beets\", \"pinto beans\", 1959]\n",
    "\n",
    "print('The type of Coloradothings is:')\n",
    "print(type(Coloradothings))\n",
    "print()\n",
    "print('The length of Coloradothings is:')\n",
    "print(len(Coloradothings)) #Notice our use of the built-in python function 'len()'\n",
    "print()\n",
    "print('The value of Coloradothings is:')\n",
    "print(Coloradothings)"
   ]
  },
  {
   "cell_type": "markdown",
   "metadata": {},
   "source": [
    "### B. <u>Tuples</u> are ordered, unchangeable, and allow duplicate members."
   ]
  },
  {
   "cell_type": "code",
   "execution_count": null,
   "metadata": {},
   "outputs": [],
   "source": [
    "# Make a tuple.\n",
    "\n",
    "Indianathings = (\"Basketball\", \"Corn\")\n",
    "\n",
    "print(type(Indianathings))\n",
    "print()\n",
    "print(Indianathings)\n",
    "\n",
    "#Indianathings.append(\"Wall street\") # uncomment this to see an error\n"
   ]
  },
  {
   "cell_type": "code",
   "execution_count": null,
   "metadata": {},
   "outputs": [],
   "source": [
    "Indianathings.append(\"Wall street\")"
   ]
  },
  {
   "cell_type": "markdown",
   "metadata": {},
   "source": [
    "Tuples can contain a single item but to do this we must specify them with a comma after the first and only element, e.g., `Indianathings = (\"Basketball\")` is not a tuple (it's a string), while `Indianathings = (\"Basketball\",)` is a tuple.\n",
    "\n",
    "Tuples **cannot** be changed. For example, if Indianathings is a tuple then `Indianathings.append(\"Wall street\")` will cause an error.\n",
    "\n",
    "### C. <u>Sets</u> are unordered, changeable (in the sense that we can add and remove items from sets). Sets do not allow duplicates."
   ]
  },
  {
   "cell_type": "code",
   "execution_count": null,
   "metadata": {},
   "outputs": [],
   "source": [
    "# Make a set.\n",
    "\n",
    "Purduethings = {\"Ag and Bio Engineering\", \"Ross-Ade Stadium\", \"students\", \"professors\", \"Gene Keady\", \"study sessions\"}\n",
    "\n",
    "print(type(Purduethings))\n",
    "print(Purduethings) # Note the order it prints\n",
    "print()\n",
    "\n",
    "print(\"Ag and Bio Engineering\" in Purduethings)\n",
    "print(\"Medical School\" in Purduethings)"
   ]
  },
  {
   "cell_type": "markdown",
   "metadata": {},
   "source": [
    "### D. <u>Dictionaries</u> are unordered, changeable, and indexed. Written with \"{}\" but made up of key-value pairs. \n",
    "\n",
    "A **key-value pair** is a pair of strings separated by a colon. Different key-value pairs are separated by commas. It looks like `{\"key1\": \"value1\", \"key2: \"value2\"}`."
   ]
  },
  {
   "cell_type": "code",
   "execution_count": null,
   "metadata": {},
   "outputs": [],
   "source": [
    "# Make some dictionaries of farm equipment.\n",
    "OldCombine = {\"brand\": \"CASE\", \"model\": \"7130\", \"year\": 2014}\n",
    "NewCombine = {\"brand\": \"CASE\", \"model\": \"8240\", \"year\": 2016}\n",
    "Tractor1 = {\"brand\": \"CASE\", \"model\": \"290\", \"year\": 2013}\n",
    "Pickup = {\"brand\": \"CHEVY\", \"model\": \"Silverado\", \"year\": 2005}\n",
    "FavoriteOldCombineEver = {\"brand\": \"JD\", \"model\": \"7720\", \"year\": 1978, \"color\": \"green\"}\n",
    "\n",
    "print(type(FavoriteOldCombineEver))\n",
    "print(FavoriteOldCombineEver)"
   ]
  },
  {
   "cell_type": "markdown",
   "metadata": {},
   "source": [
    "**Note:** Dictionaries can contain dictionaries."
   ]
  },
  {
   "cell_type": "code",
   "execution_count": null,
   "metadata": {},
   "outputs": [],
   "source": [
    "# Create a dictionary of farm equipment from the dictionaries of\n",
    "# individual machines.\n",
    "\n",
    "FarmEquipment = {\"C1\": OldCombine, \"C2\": NewCombine, \"T1\": Tractor1, \"P1\": Pickup, \"C3\": FavoriteOldCombineEver}\n",
    "print(FarmEquipment)"
   ]
  },
  {
   "cell_type": "markdown",
   "metadata": {},
   "source": [
    "### Back to .... How does the `CandLTable` work?\n",
    "\n",
    "It is a dictionary, which means a collection of key-value pairs. Here is a link to `methods` that work with dictionaries ... <a href=\"https://www.w3schools.com/python/python_ref_dictionary.asp\" target=\"_blank\">Dictionary Methods</a>.\n",
    "\n",
    "Let's try a few ..."
   ]
  },
  {
   "cell_type": "code",
   "execution_count": null,
   "metadata": {},
   "outputs": [],
   "source": []
  },
  {
   "cell_type": "code",
   "execution_count": null,
   "metadata": {},
   "outputs": [],
   "source": [
    "print(CandLTable.keys())"
   ]
  },
  {
   "cell_type": "code",
   "execution_count": null,
   "metadata": {},
   "outputs": [],
   "source": [
    "print(CandLTable.values())"
   ]
  },
  {
   "cell_type": "code",
   "execution_count": null,
   "metadata": {},
   "outputs": [],
   "source": [
    "print(CandLTable.items())"
   ]
  },
  {
   "cell_type": "code",
   "execution_count": null,
   "metadata": {},
   "outputs": [],
   "source": [
    "# Simplest usage, good for when we know that the referenced key exists ...\n",
    "CandLTable.get(49)"
   ]
  },
  {
   "cell_type": "code",
   "execution_count": null,
   "metadata": {},
   "outputs": [],
   "source": [
    "# What happens if the key does not exist in the dictionary?\n",
    "CandLTable.get(48)"
   ]
  },
  {
   "cell_type": "markdown",
   "metadata": {},
   "source": [
    "### Nothing happens apparently"
   ]
  },
  {
   "cell_type": "code",
   "execution_count": null,
   "metadata": {},
   "outputs": [],
   "source": [
    "# Sometimes you can use print() to force the interpreter to show a value ...\n",
    "print(CandLTable.get(48))"
   ]
  },
  {
   "cell_type": "markdown",
   "metadata": {},
   "source": [
    "### This is why we need the second argument in the call to the dictionary. It specifies what to return in the case that the key is missing ..."
   ]
  },
  {
   "cell_type": "code",
   "execution_count": null,
   "metadata": {},
   "outputs": [],
   "source": [
    "# Specifying a second argument in the call\n",
    "print(CandLTable.get(48,-1))"
   ]
  },
  {
   "cell_type": "markdown",
   "metadata": {},
   "source": [
    "### How does `random` work?\n",
    "\n",
    "Random number generators are covered in many places ... <a href=\"https://numpy.org/doc/stable/reference/random/index.html?highlight=random%20sampling%20numpy%20random#module-numpy.random\" target=\"_blank\">Random Numbers in NumPy</a>."
   ]
  },
  {
   "cell_type": "code",
   "execution_count": null,
   "metadata": {},
   "outputs": [],
   "source": [
    "print(np.random.randint(1,7))"
   ]
  },
  {
   "cell_type": "code",
   "execution_count": null,
   "metadata": {},
   "outputs": [],
   "source": [
    "np.random.seed(12345)\n",
    "print(np.random.randint(1,6))\n",
    "print(np.random.randint(1,6))\n",
    "print(np.random.randint(1,6))\n",
    "print(np.random.randint(1,6))\n",
    "print(np.random.randint(1,6))\n",
    "print(np.random.randint(1,6))"
   ]
  },
  {
   "cell_type": "code",
   "execution_count": null,
   "metadata": {},
   "outputs": [],
   "source": [
    "np.random.seed(1)\n",
    "\n",
    "for i in range(100):\n",
    "    print(np.random.randint(1,7))"
   ]
  },
  {
   "cell_type": "code",
   "execution_count": null,
   "metadata": {},
   "outputs": [],
   "source": [
    "rolls = np.random.randint(1,7,10)"
   ]
  },
  {
   "cell_type": "code",
   "execution_count": null,
   "metadata": {},
   "outputs": [],
   "source": []
  },
  {
   "cell_type": "code",
   "execution_count": null,
   "metadata": {},
   "outputs": [],
   "source": [
    "plt.hist(rolls, bins=11)"
   ]
  },
  {
   "cell_type": "code",
   "execution_count": null,
   "metadata": {},
   "outputs": [],
   "source": []
  },
  {
   "cell_type": "markdown",
   "metadata": {},
   "source": [
    "# Program Chutes and Ladders Game\n",
    "\n",
    "Write a program which plays a game between two people until one wins and produces a record of the game play.\n",
    "\n",
    "Convert your the single game code into a function and then write a program to play a large number of games one after another keeping a record of who won and how long the game lasted. Then compute statistics and/or histograms.\n",
    "\n",
    "Finally, explore how changes to the positions of chutes and ladders might change the game."
   ]
  },
  {
   "cell_type": "markdown",
   "metadata": {},
   "source": [
    "### Basic Game"
   ]
  },
  {
   "cell_type": "code",
   "execution_count": null,
   "metadata": {},
   "outputs": [],
   "source": [
    "P1 = np.array([0])\n",
    "P2 = np.array([0])\n",
    "\n",
    "p1 = 0\n",
    "p2 = 0\n",
    "\n",
    "while (p1 < 100 and p2 < 100):\n",
    "    p1 = CandL_make_a_move(p1, CandLTable)\n",
    "    p2 = CandL_make_a_move(p2, CandLTable)\n",
    "    P1 = np.append(P1, p1)\n",
    "    P2 = np.append(P2, p2)\n",
    "    if p1 == 100:\n",
    "        print('Player 1 Wins!!')\n",
    "    elif p2 == 100:\n",
    "        print('Player 2 Wins!!')\n",
    "\n",
    "# This simply plots the positions of the two players over the\n",
    "# course of the game.\n",
    "fig3 = plt.figure()\n",
    "plt.style.use('seaborn-dark-palette')\n",
    "plt.plot(P1,'*')\n",
    "plt.plot(P2,'+')\n",
    "plt.grid()"
   ]
  },
  {
   "cell_type": "markdown",
   "metadata": {},
   "source": [
    "### Playing many games"
   ]
  },
  {
   "cell_type": "code",
   "execution_count": null,
   "metadata": {},
   "outputs": [],
   "source": [
    "# Convert game code to function\n",
    "\n",
    "def CandL_play_a_game(CandLTable):\n",
    "    p1 = 0\n",
    "    p2 = 0\n",
    "    Nmoves = 0\n",
    "    p1wins = 0\n",
    "    p2wins = 0\n",
    "    while (p1 < 100 and p2 < 100):\n",
    "        p1 = CandL_make_a_move(p1, CandLTable)\n",
    "        p2 = CandL_make_a_move(p2, CandLTable)\n",
    "        Nmoves += 1\n",
    "        if p1 == 100:\n",
    "            p1wins += 1\n",
    "        elif p2 == 100:\n",
    "            p2wins += 1\n",
    "    return Nmoves, p1wins, p2wins\n",
    "     \n",
    "Ngames = 1000\n",
    "Np1wins = 0\n",
    "Np2wins = 0\n",
    "\n",
    "GameLengths = np.array([])\n",
    "\n",
    "for k in range(Ngames):\n",
    "    L = CandL_play_a_game(CandLTable)\n",
    "    Np1wins += L[1]\n",
    "    Np2wins += L[2]\n",
    "    GameLengths = np.append(GameLengths, L[0])\n",
    "\n",
    "print('Average number of rounds per game is {:.2f}'.format(np.mean(GameLengths)))\n",
    "print('Player 1 won {} of {} games'.format(Np1wins,Ngames))\n",
    "print('Player 2 won {} of {} games'.format(Np2wins,Ngames))\n",
    "\n",
    "plt.hist(GameLengths, bins=30)"
   ]
  },
  {
   "cell_type": "markdown",
   "metadata": {},
   "source": [
    "### Modify the table to see it's effect on the game ..."
   ]
  },
  {
   "cell_type": "code",
   "execution_count": null,
   "metadata": {},
   "outputs": [],
   "source": [
    "# This dictionary stores the chutes and ladders board.\n",
    "CandLTable2 = {4:14, 9:31, 16:6, 21:42, 36:44, 47:26, 49:11, 51:67,\n",
    "             56:53, 63:19, 64:60, 80:2, 87:24, 93:73, 95:75, 98:78}\n",
    "\n",
    "Ngames = 1000\n",
    "Np1wins = 0\n",
    "Np2wins = 0\n",
    "\n",
    "GameLengths = np.array([])\n",
    "\n",
    "for k in range(Ngames):\n",
    "    L = CandL_play_a_game(CandLTable2)\n",
    "    Np1wins += L[1]\n",
    "    Np2wins += L[2]\n",
    "    GameLengths = np.append(GameLengths, L[0])\n",
    "    \n",
    "print('Average number of rounds per game is {:.2f}'.format(np.mean(GameLengths)))\n",
    "print('Player 1 won {} of {} games'.format(Np1wins,Ngames))\n",
    "print('Player 2 won {} of {} games'.format(Np2wins,Ngames))\n",
    "\n",
    "plt.hist(GameLengths, bins=30)"
   ]
  },
  {
   "cell_type": "code",
   "execution_count": null,
   "metadata": {},
   "outputs": [],
   "source": []
  },
  {
   "cell_type": "code",
   "execution_count": null,
   "metadata": {},
   "outputs": [],
   "source": []
  },
  {
   "cell_type": "code",
   "execution_count": null,
   "metadata": {},
   "outputs": [],
   "source": []
  }
 ],
 "metadata": {
  "kernelspec": {
   "display_name": "Python 3",
   "language": "python",
   "name": "python3"
  },
  "language_info": {
   "codemirror_mode": {
    "name": "ipython",
    "version": 3
   },
   "file_extension": ".py",
   "mimetype": "text/x-python",
   "name": "python",
   "nbconvert_exporter": "python",
   "pygments_lexer": "ipython3",
   "version": "3.8.8"
  }
 },
 "nbformat": 4,
 "nbformat_minor": 2
}
